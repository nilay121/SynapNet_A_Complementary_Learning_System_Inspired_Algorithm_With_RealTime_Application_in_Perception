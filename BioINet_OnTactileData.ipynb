{
  "cells": [
    {
      "cell_type": "code",
      "execution_count": 1,
      "metadata": {},
      "outputs": [
        {
          "name": "stderr",
          "output_type": "stream",
          "text": [
            "c:\\Users\\mcgyv\\anaconda3\\envs\\VenvSynapNet_Application\\lib\\site-packages\\tqdm\\auto.py:22: TqdmWarning: IProgress not found. Please update jupyter and ipywidgets. See https://ipywidgets.readthedocs.io/en/stable/user_install.html\n",
            "  from .autonotebook import tqdm as notebook_tqdm\n"
          ]
        }
      ],
      "source": [
        "import torch\n",
        "import torch.nn as nn\n",
        "import matplotlib.pyplot as plt\n",
        "#from cls_algo import CustomStrategy\n",
        "from avalanche.benchmarks.classic import SplitMNIST,SplitFMNIST\n",
        "import numpy as np\n",
        "import matplotlib.pyplot as plt\n",
        "import torch\n",
        "from torch.utils.data import Dataset\n",
        "import torchvision\n",
        "import pickle\n",
        "from avalanche.benchmarks.datasets import MNIST, FashionMNIST, KMNIST, EMNIST, \\\n",
        "QMNIST, FakeData, CocoCaptions, CocoDetection, LSUN, ImageNet, CIFAR10, \\\n",
        "CIFAR100, STL10, SVHN, PhotoTour, SBU, Flickr8k, Flickr30k, VOCDetection, \\\n",
        "VOCSegmentation, Cityscapes, SBDataset, USPS, HMDB51, UCF101, \\\n",
        "CelebA, CORe50Dataset, TinyImagenet, CUB200, OpenLORIS\n",
        "\n",
        "from avalanche.benchmarks.generators import nc_benchmark, ni_benchmark\n",
        "from torchvision.transforms import Compose, ToTensor, Normalize, RandomCrop\n",
        "from torch.utils.data import DataLoader, Subset\n",
        "from sklearn.model_selection import train_test_split\n",
        "\n",
        "from avalanche.benchmarks.utils import AvalancheDataset\n",
        "import time\n",
        "import torch\n",
        "import torch.nn.functional as F\n",
        "from torch.nn import BCELoss\n",
        "from tqdm import tqdm\n",
        "from collections import OrderedDict\n",
        "\n",
        "import torch\n",
        "import numpy as np\n",
        "from typing import Tuple\n",
        "from torchvision import transforms\n",
        "import pandas as pd\n",
        "import torch.nn as nn\n",
        "from torch.utils.data import DataLoader, Subset\n",
        "from torchmetrics import Accuracy\n",
        "from sklearn.metrics import mean_absolute_error"
      ]
    },
    {
      "cell_type": "code",
      "execution_count": 3,
      "metadata": {},
      "outputs": [],
      "source": [
        "df = pd.read_csv(\"dataset/Known_data/BP_SensorData.csv\")"
      ]
    },
    {
      "cell_type": "code",
      "execution_count": 9,
      "metadata": {},
      "outputs": [
        {
          "data": {
            "text/plain": [
              "50.0"
            ]
          },
          "execution_count": 9,
          "metadata": {},
          "output_type": "execute_result"
        }
      ],
      "source": [
        "df[df['object'] == \"solid_square\"].shape[0]/150"
      ]
    },
    {
      "cell_type": "code",
      "execution_count": 2,
      "metadata": {},
      "outputs": [],
      "source": [
        "a = torch.load(\"models/stable_model.pth\")"
      ]
    },
    {
      "cell_type": "code",
      "execution_count": 5,
      "metadata": {},
      "outputs": [
        {
          "ename": "TypeError",
          "evalue": "'ukDatasetModel' object is not subscriptable",
          "output_type": "error",
          "traceback": [
            "\u001b[1;31m---------------------------------------------------------------------------\u001b[0m",
            "\u001b[1;31mTypeError\u001b[0m                                 Traceback (most recent call last)",
            "Cell \u001b[1;32mIn[5], line 1\u001b[0m\n\u001b[1;32m----> 1\u001b[0m a[\u001b[39m'\u001b[39;49m\u001b[39mmodels.linear1\u001b[39;49m\u001b[39m'\u001b[39;49m]\n",
            "\u001b[1;31mTypeError\u001b[0m: 'ukDatasetModel' object is not subscriptable"
          ]
        }
      ],
      "source": [
        "a.dictionary['models.linear1']"
      ]
    },
    {
      "cell_type": "code",
      "execution_count": 3,
      "metadata": {},
      "outputs": [],
      "source": [
        "tactileData = pd.read_csv(\"dataset/Known_data/BP_SensorData.csv\", sep=\",\")"
      ]
    },
    {
      "cell_type": "code",
      "execution_count": 4,
      "metadata": {},
      "outputs": [],
      "source": [
        "# for i in range(150):\n",
        "#     if i != df['Iterations'][i]:\n",
        "#         print(df['Iterations'][i])"
      ]
    },
    {
      "cell_type": "code",
      "execution_count": 5,
      "metadata": {},
      "outputs": [],
      "source": [
        "# df['Iterations'].unique()"
      ]
    },
    {
      "cell_type": "code",
      "execution_count": 6,
      "metadata": {},
      "outputs": [],
      "source": [
        "# tactileData = pd.read_csv(\"BP_SensorData.csv\")\n",
        "# #tactileData.drop(columns=[\"grab_obj\",\"dim\"], axis=1, inplace=True)\n",
        "# tactileData.head()"
      ]
    },
    {
      "cell_type": "code",
      "execution_count": 7,
      "metadata": {},
      "outputs": [
        {
          "name": "stdout",
          "output_type": "stream",
          "text": [
            "Total data is  (135000, 6)\n",
            "Independent objects  ['cube' 'ball' 'airpod_case' 'stapler' 'usb_connector' 'bottle_cap'\n",
            " 'bottle' 'solid_cylinder' 'fevistick' 'smart_watch' 'rubiks_cube'\n",
            " 'airpods' 'rfid_card' 'rectangular_cuboid' 'hollow_cylinder'] Number (15,)\n",
            "Number of data per object (ball) 60.0\n",
            "Number of data per object (fevistick) 60.0\n",
            "Number of data per object (rectangular_cuboid) 60.0\n"
          ]
        }
      ],
      "source": [
        "print(\"Total data is \", tactileData.shape)\n",
        "print(\"Independent objects \", tactileData['object'].unique(), \"Number\", tactileData['object'].unique().shape)\n",
        "print(\"Number of data per object (ball)\", tactileData[tactileData['object']==\"ball\"].shape[0]/150)\n",
        "print(\"Number of data per object (fevistick)\", tactileData[tactileData['object']==\"fevistick\"].shape[0]/150)\n",
        "print(\"Number of data per object (rectangular_cuboid)\", tactileData[tactileData['object']==\"rectangular_cuboid\"].shape[0]/150)"
      ]
    },
    {
      "cell_type": "code",
      "execution_count": 8,
      "metadata": {},
      "outputs": [
        {
          "data": {
            "text/plain": [
              "9000     0.02\n",
              "9001     0.00\n",
              "9002     0.00\n",
              "9003     0.00\n",
              "9004     0.00\n",
              "         ... \n",
              "17995    5.00\n",
              "17996    5.00\n",
              "17997    5.00\n",
              "17998    5.00\n",
              "17999    5.00\n",
              "Name: SensorVal1, Length: 9000, dtype: float64"
            ]
          },
          "execution_count": 8,
          "metadata": {},
          "output_type": "execute_result"
        }
      ],
      "source": [
        "tactileData['SensorVal1'][tactileData['object']==\"ball\"]"
      ]
    },
    {
      "cell_type": "code",
      "execution_count": 9,
      "metadata": {},
      "outputs": [],
      "source": [
        "# ## plotting the fs1 vs fsr2 for ball\n",
        "# x_fsr1Ball = tactileData['fsr1'][tactileData['obj']==\"ball\"]\n",
        "# y_fsr1Ball = tactileData['fsr2'][tactileData['obj']==\"ball\"]\n",
        "# plt.scatter(x_fsr1Ball, y_fsr1Ball)"
      ]
    },
    {
      "cell_type": "code",
      "execution_count": 10,
      "metadata": {},
      "outputs": [],
      "source": [
        "# ## plotting the fs1 wrt time for ball\n",
        "# x_time = tactileData['time'][tactileData['obj']==\"ball\"]\n",
        "# y_fsr1Ball = tactileData['fsr1'][tactileData['obj']==\"ball\"]\n",
        "# y_fsr2Ball = tactileData['fsr2'][tactileData['obj']==\"ball\"]\n",
        "# plt.scatter(x_time, y_fsr1Ball)\n",
        "# plt.scatter(x_time, y_fsr2Ball)"
      ]
    },
    {
      "cell_type": "code",
      "execution_count": 11,
      "metadata": {},
      "outputs": [
        {
          "data": {
            "text/plain": [
              "<matplotlib.collections.PathCollection at 0x1f58a473fa0>"
            ]
          },
          "execution_count": 11,
          "metadata": {},
          "output_type": "execute_result"
        },
        {
          "data": {
            "image/png": "[encoded data removed]",
            "text/plain": [
              "<Figure size 640x480 with 1 Axes>"
            ]
          },
          "metadata": {},
          "output_type": "display_data"
        }
      ],
      "source": [
        "## plotting the cs1 vs cs2 for ball (curling)\n",
        "x_fsr1Ball = tactileData['SensorVal1'][tactileData['object']==\"ball\"]\n",
        "y_fsr1Ball = tactileData['SensorVal2'][tactileData['object']==\"ball\"]\n",
        "plt.scatter(x_fsr1Ball, y_fsr1Ball)"
      ]
    },
    {
      "cell_type": "code",
      "execution_count": 8,
      "metadata": {},
      "outputs": [
        {
          "data": {
            "text/plain": [
              "<matplotlib.collections.PathCollection at 0x7f9221e00ee0>"
            ]
          },
          "execution_count": 8,
          "metadata": {},
          "output_type": "execute_result"
        },
        {
          "data": {
            "image/png": "[encoded data removed]",
            "text/plain": [
              "<Figure size 640x480 with 1 Axes>"
            ]
          },
          "metadata": {},
          "output_type": "display_data"
        }
      ],
      "source": [
        "## plotting the cs1 vs cs2 for ball (curling)\n",
        "x_fsr1Ball = tactileData['SensorVal3'][tactileData['object']==\"ball\"]\n",
        "y_fsr1Ball = tactileData['SensorVal4'][tactileData['object']==\"ball\"]\n",
        "plt.scatter(x_fsr1Ball, y_fsr1Ball)"
      ]
    },
    {
      "cell_type": "code",
      "execution_count": 9,
      "metadata": {},
      "outputs": [
        {
          "data": {
            "text/plain": [
              "<matplotlib.collections.PathCollection at 0x7f9221deff70>"
            ]
          },
          "execution_count": 9,
          "metadata": {},
          "output_type": "execute_result"
        },
        {
          "data": {
            "image/png": "[encoded data removed]",
            "text/plain": [
              "<Figure size 640x480 with 1 Axes>"
            ]
          },
          "metadata": {},
          "output_type": "display_data"
        }
      ],
      "source": [
        "## plotting the cs1 vs cs2 for ball (curling)\n",
        "x_fsr1Ball = tactileData['SensorVal1'][tactileData['object']==\"smart_watch\"]\n",
        "y_fsr1Ball = tactileData['SensorVal2'][tactileData['object']==\"smart_watch\"]\n",
        "plt.scatter(x_fsr1Ball, y_fsr1Ball)"
      ]
    },
    {
      "cell_type": "code",
      "execution_count": 10,
      "metadata": {},
      "outputs": [
        {
          "data": {
            "text/plain": [
              "<matplotlib.collections.PathCollection at 0x7f9221d713d0>"
            ]
          },
          "execution_count": 10,
          "metadata": {},
          "output_type": "execute_result"
        },
        {
          "data": {
            "image/png": "[encoded data removed]",
            "text/plain": [
              "<Figure size 640x480 with 1 Axes>"
            ]
          },
          "metadata": {},
          "output_type": "display_data"
        }
      ],
      "source": [
        "## plotting the cs1 vs cs2 for ball (curling)\n",
        "x_fsr1Ball = tactileData['SensorVal3'][tactileData['object']==\"smart_watch\"]\n",
        "y_fsr1Ball = tactileData['SensorVal4'][tactileData['object']==\"smart_watch\"]\n",
        "plt.scatter(x_fsr1Ball, y_fsr1Ball)"
      ]
    },
    {
      "cell_type": "code",
      "execution_count": 11,
      "metadata": {},
      "outputs": [],
      "source": [
        "# ## plotting the fs1 wrt time for ball\n",
        "# x_time = tactileData['time'][tactileData['obj']==\"ball\"]\n",
        "# y_cs1Ball = tactileData['cs1'][tactileData['obj']==\"ball\"]\n",
        "# y_cs2Ball = tactileData['cs2'][tactileData['obj']==\"ball\"]\n",
        "# plt.scatter(x_time, y_cs1Ball)\n",
        "# plt.scatter(x_time, y_cs2Ball)"
      ]
    },
    {
      "cell_type": "code",
      "execution_count": 12,
      "metadata": {},
      "outputs": [],
      "source": [
        "def normalizer(data):\n",
        "    zeroOneRange = ((data-data.min())/(data.max()-data.min()))\n",
        "    minusOneOneRange = zeroOneRange\n",
        "    # minusOneOneRange = (zeroOneRange - 0.5)/0.5\n",
        "    return minusOneOneRange"
      ]
    },
    {
      "cell_type": "code",
      "execution_count": 13,
      "metadata": {},
      "outputs": [],
      "source": [
        "# X = tactileData.drop(columns=['iteration','time','obj'])\n",
        "# X = np.array(X).astype(\"float32\")\n",
        "# y = tactileData['obj']"
      ]
    },
    {
      "cell_type": "code",
      "execution_count": 14,
      "metadata": {},
      "outputs": [],
      "source": [
        "# labels = ['ball','bigball','box','button','case','cube', 'cylinder','jenga',\n",
        "#  'labello', 'lemon', 'metalbrick', 'smallbutton', 'smallcube', 'syringe',\n",
        "#  'tomato']\n",
        "# encoded_y = []\n",
        "# for i in range(len(labels)):\n",
        "#     for j in range(len(y)):\n",
        "#         if y[j] == labels[i]:\n",
        "#             encoded_y.append(i)\n",
        "\n",
        "# encoded_y = np.array(encoded_y)"
      ]
    },
    {
      "cell_type": "code",
      "execution_count": 13,
      "metadata": {},
      "outputs": [],
      "source": [
        "from torch.utils.data import DataLoader, Subset\n",
        "from torch.utils.data import Dataset\n",
        "class CustomDatasetForDataLoader(Dataset):\n",
        "    def __init__(self,data,targets):\n",
        "        # convet labels to 1 hot\n",
        "        self.data = data\n",
        "        self.targets = targets\n",
        "            \n",
        "    def __len__(self):\n",
        "        return len(self.data)\n",
        "\n",
        "    def __getitem__(self, idx):\n",
        "        return self.data[idx],self.targets[idx]"
      ]
    },
    {
      "cell_type": "code",
      "execution_count": 14,
      "metadata": {},
      "outputs": [
        {
          "data": {
            "text/plain": [
              "array(['cube', 'ball', 'airpod_case', 'stapler', 'usb_connector',\n",
              "       'bottle_cap', 'bottle', 'solid_cylinder', 'fevistick',\n",
              "       'smart_watch', 'rubiks_cube', 'airpods', 'rfid_card',\n",
              "       'rectangular_cuboid', 'hollow_cylinder'], dtype=object)"
            ]
          },
          "execution_count": 14,
          "metadata": {},
          "output_type": "execute_result"
        }
      ],
      "source": [
        "tactileData['object'].unique()"
      ]
    },
    {
      "cell_type": "code",
      "execution_count": 15,
      "metadata": {},
      "outputs": [
        {
          "name": "stdout",
          "output_type": "stream",
          "text": [
            "All transformations done for experiences in train and test!!!\n",
            "All transformations done for experiences in train and test!!!\n",
            "All transformations done for experiences in train and test!!!\n",
            "All transformations done for experiences in train and test!!!\n",
            "All transformations done for experiences in train and test!!!\n",
            "All transformations done for experiences in train and test!!!\n",
            "All transformations done for experiences in train and test!!!\n",
            "All transformations done for experiences in train and test!!!\n",
            "All transformations done for experiences in train and test!!!\n",
            "All transformations done for experiences in train and test!!!\n",
            "All transformations done for experiences in train and test!!!\n",
            "All transformations done for experiences in train and test!!!\n",
            "All transformations done for experiences in train and test!!!\n",
            "(780, 600)\n"
          ]
        }
      ],
      "source": [
        "## we keep the solid cylinder, solid cube, and rectangular_cuboidfor testing phase\n",
        "labels = ['cube', 'ball', 'airpod_case', 'stapler', 'usb_connector','bottle_cap', 'bottle', 'solid_cylinder', 'fevistick',\n",
        "       'smart_watch', 'rubiks_cube', 'airpods', 'rfid_card', ] ### ---> Dummy encoded to integers\n",
        "\n",
        "##'rectangular_cuboid', 'hollow_cylinder'\n",
        "modifiedData = []\n",
        "modifiedLabels = []\n",
        "for i in range(len(labels)):\n",
        "    dataToTransform = np.array(tactileData.loc[tactileData['object'] == labels[i], ['SensorVal1', 'SensorVal2', 'SensorVal3', 'SensorVal4']])\n",
        "    for j in range(0,dataToTransform.shape[0],150):\n",
        "        tempTrans = dataToTransform[j:j+150].reshape(1,-1)\n",
        "        modifiedLabels.append(i)\n",
        "        modifiedData.append(tempTrans)\n",
        "    print(\"All transformations done for experiences in train and test!!!\")\n",
        "\n",
        "modifiedLabels = np.array(modifiedLabels)\n",
        "modifiedData = np.array(modifiedData).squeeze(1)\n",
        "print(modifiedData.shape)"
      ]
    },
    {
      "cell_type": "code",
      "execution_count": 16,
      "metadata": {},
      "outputs": [],
      "source": [
        "# test_labels = ['cube', 'solid_cylinder', 'rectangular_cuboid']\n",
        "# ExpDataSep = []\n",
        "# ExpLabelsSep = []\n",
        "# for i in range(len(labels)):\n",
        "#     dataToTransform = np.array(tactileData.loc[tactileData['object'] == labels[i], ['SensorVal1', 'SensorVal2', 'SensorVal3', 'SensorVal4']])\n",
        "#     for j in range(0,dataToTransform.shape[0],150):\n",
        "#         tempTrans = dataToTransform[j:j+150].reshape(1,-1)\n",
        "#         ExpLabelsSep.append(i)\n",
        "#         ExpDataSep.append(tempTrans)\n",
        "#     print(\"All transformations done for separate test data!!!\")\n",
        "\n",
        "# ExpLabelsSep = np.array(ExpLabelsSep)\n",
        "# ExpDataSep = np.array(ExpDataSep).squeeze(1)\n",
        "# print(ExpDataSep)"
      ]
    },
    {
      "cell_type": "code",
      "execution_count": 17,
      "metadata": {},
      "outputs": [],
      "source": [
        "train_indices, val_indices, _, _ = train_test_split(range(len(modifiedLabels)),modifiedLabels,stratify=modifiedLabels,\n",
        "        test_size=0.20)\n",
        "trainData = modifiedData[train_indices]\n",
        "trainLabels = modifiedLabels[train_indices]\n",
        "\n",
        "testData = modifiedData[val_indices]\n",
        "testLabels = modifiedLabels[val_indices]"
      ]
    },
    {
      "cell_type": "code",
      "execution_count": 18,
      "metadata": {},
      "outputs": [
        {
          "name": "stdout",
          "output_type": "stream",
          "text": [
            "(624, 600) (624,)\n",
            "(156, 600) (156,)\n"
          ]
        }
      ],
      "source": [
        "print(trainData.shape, trainLabels.shape)\n",
        "print(testData.shape, testLabels.shape)"
      ]
    },
    {
      "cell_type": "code",
      "execution_count": 19,
      "metadata": {},
      "outputs": [
        {
          "name": "stdout",
          "output_type": "stream",
          "text": [
            "(624, 600)\n",
            "(156, 600)\n"
          ]
        }
      ],
      "source": [
        "X_normalizedTrain = normalizer(trainData)\n",
        "X_normalizedTest = normalizer(testData)\n",
        "print(X_normalizedTrain.shape)\n",
        "print(X_normalizedTest.shape)"
      ]
    },
    {
      "cell_type": "code",
      "execution_count": 20,
      "metadata": {},
      "outputs": [],
      "source": [
        "X_normalizedTrain = X_normalizedTrain.astype(\"float32\")\n",
        "X_normalizedTest = X_normalizedTest.astype(\"float32\")"
      ]
    },
    {
      "cell_type": "code",
      "execution_count": 21,
      "metadata": {},
      "outputs": [],
      "source": [
        "trainData = CustomDatasetForDataLoader(data=X_normalizedTrain,targets=trainLabels)\n",
        "testData = CustomDatasetForDataLoader(data=X_normalizedTest,targets=testLabels)"
      ]
    },
    {
      "cell_type": "code",
      "execution_count": 22,
      "metadata": {},
      "outputs": [
        {
          "data": {
            "text/plain": [
              "0.0"
            ]
          },
          "execution_count": 22,
          "metadata": {},
          "output_type": "execute_result"
        }
      ],
      "source": [
        "X_normalizedTest.min()"
      ]
    },
    {
      "cell_type": "code",
      "execution_count": 33,
      "metadata": {},
      "outputs": [],
      "source": [
        "## Simple Conv1D model\n",
        "class RegressionModel(nn.Module):\n",
        "    def __init__(self) -> None:\n",
        "        super().__init__()\n",
        "        self.model = nn.Sequential(OrderedDict([\n",
        "            (\"conv1\", nn.Conv1d(in_channels=600, out_channels=512, kernel_size=3, stride=1, padding=1)),\n",
        "            (\"batchnorm1\", nn.BatchNorm1d(num_features=512)),\n",
        "            (\"activation1\", nn.LeakyReLU(0.01,inplace=False)),\n",
        "\n",
        "            (\"conv2\", nn.Conv1d(in_channels=512, out_channels=256, kernel_size=3, stride=2, padding=1)),\n",
        "            (\"batchnorm2\", nn.BatchNorm1d(num_features=256)),\n",
        "            (\"activation2\", nn.LeakyReLU(0.01,inplace=False)),\n",
        "\n",
        "            (\"flatten\", nn.Flatten()),\n",
        "            (\"linear1\", nn.Linear(256, 256)),\n",
        "            (\"activation3\", nn.LeakyReLU()),\n",
        "            # nn.Linear(512, 512),\n",
        "            # nn.LeakyReLU(),\n",
        "            (\"linear2\", nn.Linear(256,13))\n",
        "        ]))\n",
        "\n",
        "    def forward(self,x):\n",
        "        return self.model(x)\n",
        "\n",
        "\n"
      ]
    },
    {
      "cell_type": "code",
      "execution_count": 40,
      "metadata": {},
      "outputs": [],
      "source": [
        "model = RegressionModel()"
      ]
    },
    {
      "cell_type": "code",
      "execution_count": 41,
      "metadata": {},
      "outputs": [
        {
          "name": "stdout",
          "output_type": "stream",
          "text": [
            "RegressionModel(\n",
            "  (model): Sequential(\n",
            "    (conv1): Conv1d(600, 512, kernel_size=(3,), stride=(1,), padding=(1,))\n",
            "    (batchnorm1): BatchNorm1d(512, eps=1e-05, momentum=0.1, affine=True, track_running_stats=True)\n",
            "    (activation1): LeakyReLU(negative_slope=0.01)\n",
            "    (conv2): Conv1d(512, 256, kernel_size=(3,), stride=(2,), padding=(1,))\n",
            "    (batchnorm2): BatchNorm1d(256, eps=1e-05, momentum=0.1, affine=True, track_running_stats=True)\n",
            "    (activation2): LeakyReLU(negative_slope=0.01)\n",
            "    (flatten): Flatten(start_dim=1, end_dim=-1)\n",
            "    (linear1): Linear(in_features=256, out_features=256, bias=True)\n",
            "    (activation3): LeakyReLU(negative_slope=0.01)\n",
            "    (linear2): Linear(in_features=256, out_features=13, bias=True)\n",
            "  )\n",
            ")\n"
          ]
        }
      ],
      "source": [
        "print(model)"
      ]
    },
    {
      "cell_type": "code",
      "execution_count": 43,
      "metadata": {},
      "outputs": [
        {
          "name": "stdout",
          "output_type": "stream",
          "text": [
            "torch.Size([13, 256])\n"
          ]
        }
      ],
      "source": [
        "print(model.model.linear2.weight.shape)"
      ]
    },
    {
      "cell_type": "code",
      "execution_count": 46,
      "metadata": {},
      "outputs": [
        {
          "ename": "RuntimeError",
          "evalue": "expected scalar type Long but found Int",
          "output_type": "error",
          "traceback": [
            "\u001b[1;31m---------------------------------------------------------------------------\u001b[0m",
            "\u001b[1;31mRuntimeError\u001b[0m                              Traceback (most recent call last)",
            "Cell \u001b[1;32mIn[46], line 13\u001b[0m\n\u001b[0;32m     11\u001b[0m data \u001b[39m=\u001b[39m data\u001b[39m.\u001b[39mreshape(\u001b[39m-\u001b[39m\u001b[39m1\u001b[39m, \u001b[39m600\u001b[39m, \u001b[39m1\u001b[39m)\n\u001b[0;32m     12\u001b[0m predict \u001b[39m=\u001b[39m model(data)\n\u001b[1;32m---> 13\u001b[0m loss \u001b[39m=\u001b[39m loss_cat(predict, labels)\n\u001b[0;32m     14\u001b[0m loss\u001b[39m.\u001b[39mbackward()\n\u001b[0;32m     15\u001b[0m opt\u001b[39m.\u001b[39mstep()\n",
            "File \u001b[1;32mc:\\Users\\mcgyv\\anaconda3\\envs\\VenvSynapNet_Application\\lib\\site-packages\\torch\\nn\\modules\\module.py:1501\u001b[0m, in \u001b[0;36mModule._call_impl\u001b[1;34m(self, *args, **kwargs)\u001b[0m\n\u001b[0;32m   1496\u001b[0m \u001b[39m# If we don't have any hooks, we want to skip the rest of the logic in\u001b[39;00m\n\u001b[0;32m   1497\u001b[0m \u001b[39m# this function, and just call forward.\u001b[39;00m\n\u001b[0;32m   1498\u001b[0m \u001b[39mif\u001b[39;00m \u001b[39mnot\u001b[39;00m (\u001b[39mself\u001b[39m\u001b[39m.\u001b[39m_backward_hooks \u001b[39mor\u001b[39;00m \u001b[39mself\u001b[39m\u001b[39m.\u001b[39m_backward_pre_hooks \u001b[39mor\u001b[39;00m \u001b[39mself\u001b[39m\u001b[39m.\u001b[39m_forward_hooks \u001b[39mor\u001b[39;00m \u001b[39mself\u001b[39m\u001b[39m.\u001b[39m_forward_pre_hooks\n\u001b[0;32m   1499\u001b[0m         \u001b[39mor\u001b[39;00m _global_backward_pre_hooks \u001b[39mor\u001b[39;00m _global_backward_hooks\n\u001b[0;32m   1500\u001b[0m         \u001b[39mor\u001b[39;00m _global_forward_hooks \u001b[39mor\u001b[39;00m _global_forward_pre_hooks):\n\u001b[1;32m-> 1501\u001b[0m     \u001b[39mreturn\u001b[39;00m forward_call(\u001b[39m*\u001b[39;49margs, \u001b[39m*\u001b[39;49m\u001b[39m*\u001b[39;49mkwargs)\n\u001b[0;32m   1502\u001b[0m \u001b[39m# Do not call functions when jit is used\u001b[39;00m\n\u001b[0;32m   1503\u001b[0m full_backward_hooks, non_full_backward_hooks \u001b[39m=\u001b[39m [], []\n",
            "File \u001b[1;32mc:\\Users\\mcgyv\\anaconda3\\envs\\VenvSynapNet_Application\\lib\\site-packages\\torch\\nn\\modules\\loss.py:1174\u001b[0m, in \u001b[0;36mCrossEntropyLoss.forward\u001b[1;34m(self, input, target)\u001b[0m\n\u001b[0;32m   1173\u001b[0m \u001b[39mdef\u001b[39;00m \u001b[39mforward\u001b[39m(\u001b[39mself\u001b[39m, \u001b[39minput\u001b[39m: Tensor, target: Tensor) \u001b[39m-\u001b[39m\u001b[39m>\u001b[39m Tensor:\n\u001b[1;32m-> 1174\u001b[0m     \u001b[39mreturn\u001b[39;00m F\u001b[39m.\u001b[39;49mcross_entropy(\u001b[39minput\u001b[39;49m, target, weight\u001b[39m=\u001b[39;49m\u001b[39mself\u001b[39;49m\u001b[39m.\u001b[39;49mweight,\n\u001b[0;32m   1175\u001b[0m                            ignore_index\u001b[39m=\u001b[39;49m\u001b[39mself\u001b[39;49m\u001b[39m.\u001b[39;49mignore_index, reduction\u001b[39m=\u001b[39;49m\u001b[39mself\u001b[39;49m\u001b[39m.\u001b[39;49mreduction,\n\u001b[0;32m   1176\u001b[0m                            label_smoothing\u001b[39m=\u001b[39;49m\u001b[39mself\u001b[39;49m\u001b[39m.\u001b[39;49mlabel_smoothing)\n",
            "File \u001b[1;32mc:\\Users\\mcgyv\\anaconda3\\envs\\VenvSynapNet_Application\\lib\\site-packages\\torch\\nn\\functional.py:3029\u001b[0m, in \u001b[0;36mcross_entropy\u001b[1;34m(input, target, weight, size_average, ignore_index, reduce, reduction, label_smoothing)\u001b[0m\n\u001b[0;32m   3027\u001b[0m \u001b[39mif\u001b[39;00m size_average \u001b[39mis\u001b[39;00m \u001b[39mnot\u001b[39;00m \u001b[39mNone\u001b[39;00m \u001b[39mor\u001b[39;00m reduce \u001b[39mis\u001b[39;00m \u001b[39mnot\u001b[39;00m \u001b[39mNone\u001b[39;00m:\n\u001b[0;32m   3028\u001b[0m     reduction \u001b[39m=\u001b[39m _Reduction\u001b[39m.\u001b[39mlegacy_get_string(size_average, reduce)\n\u001b[1;32m-> 3029\u001b[0m \u001b[39mreturn\u001b[39;00m torch\u001b[39m.\u001b[39;49m_C\u001b[39m.\u001b[39;49m_nn\u001b[39m.\u001b[39;49mcross_entropy_loss(\u001b[39minput\u001b[39;49m, target, weight, _Reduction\u001b[39m.\u001b[39;49mget_enum(reduction), ignore_index, label_smoothing)\n",
            "\u001b[1;31mRuntimeError\u001b[0m: expected scalar type Long but found Int"
          ]
        }
      ],
      "source": [
        "## Simple regression model on the tactile dataset\n",
        "model = RegressionModel()\n",
        "opt = torch.optim.Adam(model.parameters(), 1e-4)\n",
        "loss_cat = nn.CrossEntropyLoss()\n",
        "EPOCHS = 20\n",
        "patience = 150\n",
        "scheduler = torch.optim.lr_scheduler.ReduceLROnPlateau(opt, patience=patience, verbose=True)\n",
        "for epochs in range(EPOCHS):\n",
        "    for data, labels in DataLoader(trainData, 32, shuffle=False):\n",
        "        model.zero_grad()\n",
        "        data = data.reshape(-1, 600, 1)\n",
        "        predict = model(data)\n",
        "        loss = loss_cat(predict, labels)\n",
        "        loss.backward()\n",
        "        opt.step()\n",
        "    scheduler.step(loss)\n",
        "    if (epochs%50) == 0:\n",
        "        print(f\"loss is {loss}\")\n",
        "\n",
        "\n",
        "## Eval\n",
        "def evalComp(test_stream):\n",
        "    exp_counter=0\n",
        "    acc_exp=[]\n",
        "    # acc_dict={}\n",
        "    model.eval()\n",
        "    accuracy = Accuracy(task=\"multiclass\", num_classes=15)\n",
        "    with torch.no_grad():\n",
        "        eval_data_loader = DataLoader(test_stream,batch_size=32,shuffle=False)\n",
        "        total_accuracy=0\n",
        "        batch_counter=0\n",
        "        for data,labels in tqdm(eval_data_loader):\n",
        "            input_dataBT =  data     \n",
        "            input_dataBT = input_dataBT.reshape(-1, 600, 1)  \n",
        "            input_label = labels\n",
        "            pred_test = model(input_dataBT)\n",
        "            pred_label = torch.argmax(pred_test.data,1)\n",
        "            total_accuracy+=accuracy(pred_label,input_label)\n",
        "            batch_counter+=1\n",
        "\n",
        "        print(f\"exp {exp_counter} model accuracy : {total_accuracy/batch_counter}\")\n",
        "        acc_exp.append((total_accuracy/batch_counter).item())\n",
        "        exp_counter+=1\n",
        "    return acc_exp\n",
        "evalComp(testData)\n",
        "\n",
        "## Epochs = 2000, lr=1e-4 --> Train accuracy 91\n",
        "\n",
        "## Epochs = 2500, lr=1e-4 --> Test accuracy 61\n",
        "\n",
        "## Epochs = 2500, lr=1e-4 --> Test accuracy 64 (conv1d)\n",
        "## Epochs = 2000, lr=1e-4 --> Test accuracy 64 (conv1d)"
      ]
    },
    {
      "cell_type": "code",
      "execution_count": null,
      "metadata": {},
      "outputs": [],
      "source": [
        "## Vae with conv1d\n",
        "class Reshape(nn.Module):\n",
        "    def __init__(self,batch_sizeGR,features,seq_length, *args):\n",
        "        super().__init__()\n",
        "        self.shape = args\n",
        "        self.batch_sizeGR = batch_sizeGR\n",
        "        self.features = features\n",
        "        self.seq_length = seq_length\n",
        "\n",
        "    def forward(self, x):\n",
        "        return x.reshape(self.batch_sizeGR,self.features,self.seq_length)\n",
        "\n",
        "\n",
        "class Trim(nn.Module):\n",
        "    def __init__(self,data_width, *args):\n",
        "        super().__init__()\n",
        "        self.data_width=data_width\n",
        "\n",
        "    def forward(self, x):\n",
        "        return x[:, :, :self.data_width, :self.data_width]\n",
        "\n",
        "class VAE(nn.Module):\n",
        "    def __init__(self,input_dim, latent_embedding, device):\n",
        "        super().__init__()\n",
        "        self.latent_embedding = latent_embedding\n",
        "        self.input_dim = input_dim\n",
        "        self.device = device\n",
        "        # self.batch_sizeGR = batch_sizeGR\n",
        "        # self.data_width=self.data_height=14\n",
        "        \n",
        "        self.encoder = nn.Sequential(\n",
        "                # Reshape(self.batch_sizeGR,1,self.data_width,self.data_height),\n",
        "                nn.Conv1d(in_channels=self.input_dim, out_channels=512, kernel_size=3, stride=1, padding=1),\n",
        "                nn.BatchNorm1d(num_features=512),\n",
        "                nn.LeakyReLU(0.01,inplace=False),\n",
        "\n",
        "                nn.Conv1d(in_channels=512, out_channels=256, kernel_size=3, stride=2, padding=1),\n",
        "                nn.BatchNorm1d(num_features=256),\n",
        "                nn.LeakyReLU(0.01,inplace=False),\n",
        "\n",
        "                nn.Conv1d(in_channels=256, out_channels=128, kernel_size=3, stride=2, padding=1),\n",
        "                nn.BatchNorm1d(num_features=128),\n",
        "                nn.LeakyReLU(0.01,inplace=False),\n",
        "\n",
        "                nn.Conv1d(in_channels=128, out_channels=64, kernel_size=3, stride=2, padding=1),\n",
        "                nn.BatchNorm1d(num_features=64),\n",
        "                nn.LeakyReLU(0.01,inplace=False),\n",
        "\n",
        "                # nn.Conv1d(in_channels=self.)\n",
        "\n",
        "                # nn.Conv2d(16, 32, stride=2, kernel_size=(3, 3), padding=1),\n",
        "                # nn.BatchNorm2d(num_features=32),\n",
        "                # nn.LeakyReLU(0.01,inplace=False),\n",
        "\n",
        "                # nn.Conv2d(32, 64, stride=2, kernel_size=(3, 3), padding=1),\n",
        "                # nn.BatchNorm2d(num_features=64),\n",
        "                # nn.LeakyReLU(0.01,inplace=False),\n",
        "\n",
        "                nn.Flatten(),\n",
        "                # nn.Linear(1024, 1000),\n",
        "                # nn.LeakyReLU(0.01,inplace=False),\n",
        "                # nn.Linear(1000, 500),\n",
        "        )    \n",
        "        \n",
        "        self.z_mean = torch.nn.Linear(64, self.latent_embedding)\n",
        "        self.z_log_var = torch.nn.Linear(64, self.latent_embedding)\n",
        "        \n",
        "        self.decoder = nn.Sequential(\n",
        "                torch.nn.Linear(self.latent_embedding, 64),\n",
        "                nn.LeakyReLU(0.01,inplace=False),\n",
        "\n",
        "                Reshape(-1, 64, 1),\n",
        "\n",
        "                nn.ConvTranspose1d(64, 128, stride=2, kernel_size=3, padding=1),    \n",
        "                nn.BatchNorm1d(num_features=128),            \n",
        "                nn.LeakyReLU(0.01,inplace=False),\n",
        "\n",
        "                nn.ConvTranspose1d(128, 256, stride=2, kernel_size=3, padding=1),  \n",
        "                nn.BatchNorm1d(num_features=256),              \n",
        "                nn.LeakyReLU(0.01,inplace=False),\n",
        "\n",
        "                nn.ConvTranspose1d(256, 512, stride=2, kernel_size=3, padding=1),  \n",
        "                nn.BatchNorm1d(num_features=512),              \n",
        "                nn.LeakyReLU(0.01,inplace=False),\n",
        "\n",
        "                nn.ConvTranspose1d(512, 600, stride=1, kernel_size=3, padding=1), \n",
        "                # Trim(self.data_width),  \n",
        "                # nn.Sigmoid()\n",
        "                nn.Tanh()\n",
        "                )\n",
        "\n",
        "    def encoding_fn(self, x):\n",
        "        x = x.reshape(1, 600, 1)\n",
        "        x = self.encoder(x)\n",
        "        #x = x.view(1,self.image_channel_dim,-1) # resize the output of the encoder for obtaining the embedding, we are sending one image at a time\n",
        "        z_mean, z_log_var = self.z_mean(x), self.z_log_var(x)\n",
        "        encoded = self.reparameterize(z_mean, z_log_var)\n",
        "        return encoded, z_mean, z_log_var\n",
        "        \n",
        "    def reparameterize(self, z_mu, z_log_var):\n",
        "        eps = torch.randn(z_mu.size(0), z_mu.size(1)).to(device=self.device)\n",
        "        z = z_mu + eps * torch.exp(z_log_var/2.) \n",
        "        return z\n",
        "        \n",
        "    def forward(self, x):\n",
        "        x = self.encoder(x)\n",
        "        z_mean, z_log_var = self.z_mean(x), self.z_log_var(x)\n",
        "        encoded = self.reparameterize(z_mean, z_log_var)\n",
        "        decoded = self.decoder(encoded)\n",
        "        # # decoded_reshaped = decoded.reshape(self.batch_sizeGR,-1)\n",
        "        # # print(\"decoder output\",decoded_reshaped.shape)\n",
        "        return encoded, z_mean, z_log_var, decoded"
      ]
    },
    {
      "cell_type": "code",
      "execution_count": null,
      "metadata": {},
      "outputs": [],
      "source": [
        "class Vae_Cls_Generator:\n",
        "  def __init__(self,num_epochs, model, device,learning_rate,batch_size,patience,reconstruction_term_weight=1):\n",
        "    self.num_epochs = num_epochs\n",
        "    self.device = device\n",
        "    self.model =  model.to(self.device) \n",
        "    self.patience = patience\n",
        "    self.seq_len = 1\n",
        "    self.loss_fn = F.mse_loss\n",
        "\n",
        "    self.reconstruction_term_weight = reconstruction_term_weight\n",
        "    self.learning_rate = learning_rate\n",
        "    self.batch_size = batch_size\n",
        "\n",
        "  def train(self,cl_exp,synthetic_imgHeight=None,synthetic_imgWidth=None,buff_images=[]):\n",
        "    optimizer = torch.optim.Adam(self.model.parameters(), lr=self.learning_rate)  \n",
        "    scheduler = torch.optim.lr_scheduler.ReduceLROnPlateau(optimizer, patience=self.patience, verbose=True)\n",
        "\n",
        "    train_dataset = cl_exp.dataset\n",
        "    train_loader = DataLoader(train_dataset, num_workers=4, batch_size=self.batch_size,shuffle=False)\n",
        "    for epoch in range(self.num_epochs):\n",
        "        self.model.train()\n",
        "        loader_loop = tqdm(train_loader,leave=False)\n",
        "        for data in loader_loop:\n",
        "          features = data[0].to(self.device) \n",
        "          # if len(buff_images) > 0:\n",
        "          #   buffer_images = torch.as_tensor(np.array(buff_images))\n",
        "          #   buffer_images = buffer_images.squeeze(2).reshape(-1,1,synthetic_imgHeight,synthetic_imgWidth).to(self.device)\n",
        "          #   features = buffer_images\n",
        "          features = features.reshape(-1, 600, self.seq_len)\n",
        "\n",
        "          # FORWARD AND BACK PROP\n",
        "          encoded, z_mean, z_log_var, decoded = self.model(features)\n",
        "\n",
        "          '''\n",
        "          negative sign to make the KL div loss to be positive.\n",
        "          '''\n",
        "          kl_div = -0.5 * torch.sum(1 + z_log_var \n",
        "                                    - z_mean**2 \n",
        "                                    - torch.exp(z_log_var), \n",
        "                                    axis=1) # sum over latent dimension\n",
        "\n",
        "          batchsize = kl_div.size(0)\n",
        "          kl_div = kl_div.mean() # average over batch dimension\n",
        "\n",
        "          pixelwise = self.loss_fn(decoded, features, reduction='none')  # check with reduction =\"mean\"\n",
        "          pixelwise = pixelwise.view(batchsize, -1).sum(axis=1) # sum over pixels\n",
        "          pixelwise = pixelwise.mean() # average over batch dimension\n",
        "          loss = self.reconstruction_term_weight*pixelwise + kl_div\n",
        "          \n",
        "          optimizer.zero_grad()\n",
        "\n",
        "          loss.backward()\n",
        "\n",
        "          # UPDATE MODEL PARAMETERS\n",
        "          optimizer.step()\n",
        "          loader_loop.set_description(f\"Epoch {epoch}/{self.num_epochs}\")\n",
        "          loader_loop.set_postfix(loss = loss.item())\n",
        "\n",
        "        scheduler.step(loss)\n",
        "\n",
        "  def evaluate(self):\n",
        "    pass"
      ]
    },
    {
      "cell_type": "code",
      "execution_count": null,
      "metadata": {},
      "outputs": [],
      "source": [
        "from torchvision.utils import save_image\n",
        "def buffer_dataGeneration(digit, exp,device, batch_size,model,num_examples,numbOf_orgExamples):\n",
        "\n",
        "    images = []\n",
        "    synthetic_imgs = []\n",
        "    labelsForSyntheticImages = []\n",
        "    batch_size = batch_size\n",
        "    idx = 0\n",
        "    constraining_term = 1#0.15\n",
        "    originalImage_example = 0\n",
        "\n",
        "    data = exp.dataset\n",
        "    dataset = DataLoader(data,batch_size=batch_size,num_workers=4,shuffle=False)\n",
        "\n",
        "    for data in dataset:\n",
        "        x = data[0].to(device)\n",
        "        y = data[1].cpu().detach().numpy()\n",
        "        indices_img, = np.where(y==digit)\n",
        "        for i in indices_img:\n",
        "            images.append(x[i])\n",
        "            originalImage_example += 1\n",
        "            if (originalImage_example == numbOf_orgExamples):\n",
        "                break\n",
        "    encodings_digit = []\n",
        "    model.eval()\n",
        "    for i in range(numbOf_orgExamples):\n",
        "        with torch.no_grad():\n",
        "            _,mu, sigma = model.encoding_fn(images[i]) #.view(1, 784)\n",
        "        encodings_digit.append([mu.squeeze(0).squeeze(0).cpu().detach().numpy(),\n",
        "                                sigma.squeeze(0).squeeze(0).cpu().detach().numpy()])\n",
        "    \n",
        "    encodings_digit = np.array(encodings_digit)\n",
        "    \n",
        "    # take average of the mean and sigma for N examples of the same digit\n",
        "    mean_encodings_digit = encodings_digit.mean(axis=0)\n",
        "    \n",
        "    # make the dimension of mu and sigma as its original dimension\n",
        "    mu = mean_encodings_digit[0]\n",
        "    mu = torch.as_tensor(mu).unsqueeze(0).unsqueeze(1).cuda()\n",
        "\n",
        "    sigma = mean_encodings_digit[1]\n",
        "    sigma = torch.as_tensor(sigma).unsqueeze(0).unsqueeze(1).cuda()\n",
        "    \n",
        "    #Extracting imgaes from latent embedding\n",
        "    for example in range(num_examples):\n",
        "        with torch.no_grad():\n",
        "            epsilon = torch.randn_like(sigma)\n",
        "            z = mu + (constraining_term*sigma * epsilon)\n",
        "            out = model.decoder(z).cpu().detach().numpy()\n",
        "        synthetic_imgs.append(out)\n",
        "        labelsForSyntheticImages.append(digit)\n",
        "\n",
        "    synthetic_imgs = np.array(synthetic_imgs)\n",
        "    return synthetic_imgs, labelsForSyntheticImages"
      ]
    },
    {
      "cell_type": "code",
      "execution_count": null,
      "metadata": {},
      "outputs": [],
      "source": [
        "# dummy_test = torch.Tensor(X_normalized[42:47]).reshape(-1, 600, 1) ## --> corresponds to ball\n",
        "# syn_images, labels = buffer_dataGeneration(digit=1, data=dummy_test, device= \"cuda\", num_examples=1, numbOf_orgExamples=2, model=gen_model)"
      ]
    },
    {
      "cell_type": "code",
      "execution_count": null,
      "metadata": {},
      "outputs": [],
      "source": [
        "# mean_absolute_error(syn_images.reshape(600,1), dummy_test[2])"
      ]
    },
    {
      "cell_type": "code",
      "execution_count": null,
      "metadata": {},
      "outputs": [],
      "source": [
        "device = \"cuda\"\n",
        "scenarioTrainVal = nc_benchmark(trainData, trainData, n_experiences=5, shuffle=False, seed=9, task_labels=False)\n",
        "train_stream = scenarioTrainVal.train_stream\n",
        "test_stream =  scenarioTrainVal.test_stream\n",
        "gen_model = VAE(600, 100, device=device).to(device=device)\n",
        "gen_class = Vae_Cls_Generator(num_epochs=3, model=gen_model, device=device, learning_rate=1e-4, batch_size=32, patience=100, )\n",
        "buffer_images = []\n",
        "buffer_labels = []\n",
        "for exp in train_stream:\n",
        "    print(\"Start of experience: \", exp.current_experience)\n",
        "    print(\"Current Classes: \", exp.classes_in_this_experience)\n",
        "\n",
        "    print(\"Training Generator on current experience\") \n",
        "    gen_class.train(exp)\n",
        "    for digit in exp.classes_in_this_experience:\n",
        "        temp_img, temp_labels = buffer_dataGeneration(digit=digit, exp=exp, num_examples=30,\n",
        "                                        device=device,model=gen_model, batch_size=32,numbOf_orgExamples=5)\n",
        "        buffer_images.append(temp_img)\n",
        "        buffer_labels.append(temp_labels)\n",
        "    print(\"Gen training completetd\")"
      ]
    },
    {
      "cell_type": "code",
      "execution_count": null,
      "metadata": {
        "id": "GYLP3xqi6y8r"
      },
      "outputs": [],
      "source": []
    },
    {
      "cell_type": "code",
      "execution_count": null,
      "metadata": {},
      "outputs": [],
      "source": []
    }
  ],
  "metadata": {
    "accelerator": "GPU",
    "colab": {
      "provenance": []
    },
    "gpuClass": "standard",
    "kernelspec": {
      "display_name": "cls-afec-venv",
      "language": "python",
      "name": "python3"
    },
    "language_info": {
      "codemirror_mode": {
        "name": "ipython",
        "version": 3
      },
      "file_extension": ".py",
      "mimetype": "text/x-python",
      "name": "python",
      "nbconvert_exporter": "python",
      "pygments_lexer": "ipython3",
      "version": "3.8.10"
    },
    "vscode": {
      "interpreter": {
        "hash": "ca323e6fc38a74c3c0bd250e533c2ff0045766adf03684103517474c2e5f1b3a"
      }
    },
    "widgets": {
      "application/vnd.jupyter.widget-state+json": {
        "0000e765dc9541cc8aee351962e90c35": {
          "model_module": "@jupyter-widgets/controls",
          "model_module_version": "1.5.0",
          "model_name": "HTMLModel",
          "state": {
            "_dom_classes": [],
            "_model_module": "@jupyter-widgets/controls",
            "_model_module_version": "1.5.0",
            "_model_name": "HTMLModel",
            "_view_count": null,
            "_view_module": "@jupyter-widgets/controls",
            "_view_module_version": "1.5.0",
            "_view_name": "HTMLView",
            "description": "",
            "description_tooltip": null,
            "layout": "IPY_MODEL_b235fc3275804c6db4b1835cd2014cfa",
            "placeholder": "​",
            "style": "IPY_MODEL_c775a0eba8b845ffa1c77078718581d5",
            "value": "100%"
          }
        },
        "0277dd90c99344938583e91a019f95a6": {
          "model_module": "@jupyter-widgets/base",
          "model_module_version": "1.2.0",
          "model_name": "LayoutModel",
          "state": {
            "_model_module": "@jupyter-widgets/base",
            "_model_module_version": "1.2.0",
            "_model_name": "LayoutModel",
            "_view_count": null,
            "_view_module": "@jupyter-widgets/base",
            "_view_module_version": "1.2.0",
            "_view_name": "LayoutView",
            "align_content": null,
            "align_items": null,
            "align_self": null,
            "border": null,
            "bottom": null,
            "display": null,
            "flex": null,
            "flex_flow": null,
            "grid_area": null,
            "grid_auto_columns": null,
            "grid_auto_flow": null,
            "grid_auto_rows": null,
            "grid_column": null,
            "grid_gap": null,
            "grid_row": null,
            "grid_template_areas": null,
            "grid_template_columns": null,
            "grid_template_rows": null,
            "height": null,
            "justify_content": null,
            "justify_items": null,
            "left": null,
            "margin": null,
            "max_height": null,
            "max_width": null,
            "min_height": null,
            "min_width": null,
            "object_fit": null,
            "object_position": null,
            "order": null,
            "overflow": null,
            "overflow_x": null,
            "overflow_y": null,
            "padding": null,
            "right": null,
            "top": null,
            "visibility": null,
            "width": null
          }
        },
        "04bea59998ba4ceca12739b418691ac7": {
          "model_module": "@jupyter-widgets/controls",
          "model_module_version": "1.5.0",
          "model_name": "HTMLModel",
          "state": {
            "_dom_classes": [],
            "_model_module": "@jupyter-widgets/controls",
            "_model_module_version": "1.5.0",
            "_model_name": "HTMLModel",
            "_view_count": null,
            "_view_module": "@jupyter-widgets/controls",
            "_view_module_version": "1.5.0",
            "_view_name": "HTMLView",
            "description": "",
            "description_tooltip": null,
            "layout": "IPY_MODEL_d6c7b6c14f6742fd849554d379ed9faf",
            "placeholder": "​",
            "style": "IPY_MODEL_14b232c5a3cb4237b32a8c39720cd0f9",
            "value": " 1648877/1648877 [00:00&lt;00:00, 20353068.89it/s]"
          }
        },
        "0f7e708b6f164bcb80349cd89ee74ba4": {
          "model_module": "@jupyter-widgets/controls",
          "model_module_version": "1.5.0",
          "model_name": "ProgressStyleModel",
          "state": {
            "_model_module": "@jupyter-widgets/controls",
            "_model_module_version": "1.5.0",
            "_model_name": "ProgressStyleModel",
            "_view_count": null,
            "_view_module": "@jupyter-widgets/base",
            "_view_module_version": "1.2.0",
            "_view_name": "StyleView",
            "bar_color": null,
            "description_width": ""
          }
        },
        "14b232c5a3cb4237b32a8c39720cd0f9": {
          "model_module": "@jupyter-widgets/controls",
          "model_module_version": "1.5.0",
          "model_name": "DescriptionStyleModel",
          "state": {
            "_model_module": "@jupyter-widgets/controls",
            "_model_module_version": "1.5.0",
            "_model_name": "DescriptionStyleModel",
            "_view_count": null,
            "_view_module": "@jupyter-widgets/base",
            "_view_module_version": "1.2.0",
            "_view_name": "StyleView",
            "description_width": ""
          }
        },
        "16087c4379b644efbc94ac6e8f36b710": {
          "model_module": "@jupyter-widgets/controls",
          "model_module_version": "1.5.0",
          "model_name": "FloatProgressModel",
          "state": {
            "_dom_classes": [],
            "_model_module": "@jupyter-widgets/controls",
            "_model_module_version": "1.5.0",
            "_model_name": "FloatProgressModel",
            "_view_count": null,
            "_view_module": "@jupyter-widgets/controls",
            "_view_module_version": "1.5.0",
            "_view_name": "ProgressView",
            "bar_style": "success",
            "description": "",
            "description_tooltip": null,
            "layout": "IPY_MODEL_0277dd90c99344938583e91a019f95a6",
            "max": 4542,
            "min": 0,
            "orientation": "horizontal",
            "style": "IPY_MODEL_31d60e4e2a5b466bb4d2b191367929fd",
            "value": 4542
          }
        },
        "2047281eb9834d8ea3d961a28051bd3f": {
          "model_module": "@jupyter-widgets/controls",
          "model_module_version": "1.5.0",
          "model_name": "FloatProgressModel",
          "state": {
            "_dom_classes": [],
            "_model_module": "@jupyter-widgets/controls",
            "_model_module_version": "1.5.0",
            "_model_name": "FloatProgressModel",
            "_view_count": null,
            "_view_module": "@jupyter-widgets/controls",
            "_view_module_version": "1.5.0",
            "_view_name": "ProgressView",
            "bar_style": "success",
            "description": "",
            "description_tooltip": null,
            "layout": "IPY_MODEL_cbfa738dc3f145afa5bfb9b774e95166",
            "max": 9912422,
            "min": 0,
            "orientation": "horizontal",
            "style": "IPY_MODEL_6f94ea0094ed419b93d0b59e4fe3000d",
            "value": 9912422
          }
        },
        "239d788384f8487383a62f911026d220": {
          "model_module": "@jupyter-widgets/base",
          "model_module_version": "1.2.0",
          "model_name": "LayoutModel",
          "state": {
            "_model_module": "@jupyter-widgets/base",
            "_model_module_version": "1.2.0",
            "_model_name": "LayoutModel",
            "_view_count": null,
            "_view_module": "@jupyter-widgets/base",
            "_view_module_version": "1.2.0",
            "_view_name": "LayoutView",
            "align_content": null,
            "align_items": null,
            "align_self": null,
            "border": null,
            "bottom": null,
            "display": null,
            "flex": null,
            "flex_flow": null,
            "grid_area": null,
            "grid_auto_columns": null,
            "grid_auto_flow": null,
            "grid_auto_rows": null,
            "grid_column": null,
            "grid_gap": null,
            "grid_row": null,
            "grid_template_areas": null,
            "grid_template_columns": null,
            "grid_template_rows": null,
            "height": null,
            "justify_content": null,
            "justify_items": null,
            "left": null,
            "margin": null,
            "max_height": null,
            "max_width": null,
            "min_height": null,
            "min_width": null,
            "object_fit": null,
            "object_position": null,
            "order": null,
            "overflow": null,
            "overflow_x": null,
            "overflow_y": null,
            "padding": null,
            "right": null,
            "top": null,
            "visibility": null,
            "width": null
          }
        },
        "2ac1acba36124b7eba246db20aa8700f": {
          "model_module": "@jupyter-widgets/controls",
          "model_module_version": "1.5.0",
          "model_name": "DescriptionStyleModel",
          "state": {
            "_model_module": "@jupyter-widgets/controls",
            "_model_module_version": "1.5.0",
            "_model_name": "DescriptionStyleModel",
            "_view_count": null,
            "_view_module": "@jupyter-widgets/base",
            "_view_module_version": "1.2.0",
            "_view_name": "StyleView",
            "description_width": ""
          }
        },
        "2b240042ee5345368ee78688fcbdce85": {
          "model_module": "@jupyter-widgets/base",
          "model_module_version": "1.2.0",
          "model_name": "LayoutModel",
          "state": {
            "_model_module": "@jupyter-widgets/base",
            "_model_module_version": "1.2.0",
            "_model_name": "LayoutModel",
            "_view_count": null,
            "_view_module": "@jupyter-widgets/base",
            "_view_module_version": "1.2.0",
            "_view_name": "LayoutView",
            "align_content": null,
            "align_items": null,
            "align_self": null,
            "border": null,
            "bottom": null,
            "display": null,
            "flex": null,
            "flex_flow": null,
            "grid_area": null,
            "grid_auto_columns": null,
            "grid_auto_flow": null,
            "grid_auto_rows": null,
            "grid_column": null,
            "grid_gap": null,
            "grid_row": null,
            "grid_template_areas": null,
            "grid_template_columns": null,
            "grid_template_rows": null,
            "height": null,
            "justify_content": null,
            "justify_items": null,
            "left": null,
            "margin": null,
            "max_height": null,
            "max_width": null,
            "min_height": null,
            "min_width": null,
            "object_fit": null,
            "object_position": null,
            "order": null,
            "overflow": null,
            "overflow_x": null,
            "overflow_y": null,
            "padding": null,
            "right": null,
            "top": null,
            "visibility": null,
            "width": null
          }
        },
        "2cdf8191716f4900ba26e50e5a0bec53": {
          "model_module": "@jupyter-widgets/controls",
          "model_module_version": "1.5.0",
          "model_name": "DescriptionStyleModel",
          "state": {
            "_model_module": "@jupyter-widgets/controls",
            "_model_module_version": "1.5.0",
            "_model_name": "DescriptionStyleModel",
            "_view_count": null,
            "_view_module": "@jupyter-widgets/base",
            "_view_module_version": "1.2.0",
            "_view_name": "StyleView",
            "description_width": ""
          }
        },
        "31d60e4e2a5b466bb4d2b191367929fd": {
          "model_module": "@jupyter-widgets/controls",
          "model_module_version": "1.5.0",
          "model_name": "ProgressStyleModel",
          "state": {
            "_model_module": "@jupyter-widgets/controls",
            "_model_module_version": "1.5.0",
            "_model_name": "ProgressStyleModel",
            "_view_count": null,
            "_view_module": "@jupyter-widgets/base",
            "_view_module_version": "1.2.0",
            "_view_name": "StyleView",
            "bar_color": null,
            "description_width": ""
          }
        },
        "326dcaf7f6494955be3caa6cd76d013a": {
          "model_module": "@jupyter-widgets/controls",
          "model_module_version": "1.5.0",
          "model_name": "DescriptionStyleModel",
          "state": {
            "_model_module": "@jupyter-widgets/controls",
            "_model_module_version": "1.5.0",
            "_model_name": "DescriptionStyleModel",
            "_view_count": null,
            "_view_module": "@jupyter-widgets/base",
            "_view_module_version": "1.2.0",
            "_view_name": "StyleView",
            "description_width": ""
          }
        },
        "37938ce5fcb04f6495b3e3b2fad674e8": {
          "model_module": "@jupyter-widgets/base",
          "model_module_version": "1.2.0",
          "model_name": "LayoutModel",
          "state": {
            "_model_module": "@jupyter-widgets/base",
            "_model_module_version": "1.2.0",
            "_model_name": "LayoutModel",
            "_view_count": null,
            "_view_module": "@jupyter-widgets/base",
            "_view_module_version": "1.2.0",
            "_view_name": "LayoutView",
            "align_content": null,
            "align_items": null,
            "align_self": null,
            "border": null,
            "bottom": null,
            "display": null,
            "flex": null,
            "flex_flow": null,
            "grid_area": null,
            "grid_auto_columns": null,
            "grid_auto_flow": null,
            "grid_auto_rows": null,
            "grid_column": null,
            "grid_gap": null,
            "grid_row": null,
            "grid_template_areas": null,
            "grid_template_columns": null,
            "grid_template_rows": null,
            "height": null,
            "justify_content": null,
            "justify_items": null,
            "left": null,
            "margin": null,
            "max_height": null,
            "max_width": null,
            "min_height": null,
            "min_width": null,
            "object_fit": null,
            "object_position": null,
            "order": null,
            "overflow": null,
            "overflow_x": null,
            "overflow_y": null,
            "padding": null,
            "right": null,
            "top": null,
            "visibility": null,
            "width": null
          }
        },
        "43628444c4a34e688ba30d15862b607d": {
          "model_module": "@jupyter-widgets/controls",
          "model_module_version": "1.5.0",
          "model_name": "DescriptionStyleModel",
          "state": {
            "_model_module": "@jupyter-widgets/controls",
            "_model_module_version": "1.5.0",
            "_model_name": "DescriptionStyleModel",
            "_view_count": null,
            "_view_module": "@jupyter-widgets/base",
            "_view_module_version": "1.2.0",
            "_view_name": "StyleView",
            "description_width": ""
          }
        },
        "4d80aa7ceab74ca286f6ecc4cd27e79a": {
          "model_module": "@jupyter-widgets/base",
          "model_module_version": "1.2.0",
          "model_name": "LayoutModel",
          "state": {
            "_model_module": "@jupyter-widgets/base",
            "_model_module_version": "1.2.0",
            "_model_name": "LayoutModel",
            "_view_count": null,
            "_view_module": "@jupyter-widgets/base",
            "_view_module_version": "1.2.0",
            "_view_name": "LayoutView",
            "align_content": null,
            "align_items": null,
            "align_self": null,
            "border": null,
            "bottom": null,
            "display": null,
            "flex": null,
            "flex_flow": null,
            "grid_area": null,
            "grid_auto_columns": null,
            "grid_auto_flow": null,
            "grid_auto_rows": null,
            "grid_column": null,
            "grid_gap": null,
            "grid_row": null,
            "grid_template_areas": null,
            "grid_template_columns": null,
            "grid_template_rows": null,
            "height": null,
            "justify_content": null,
            "justify_items": null,
            "left": null,
            "margin": null,
            "max_height": null,
            "max_width": null,
            "min_height": null,
            "min_width": null,
            "object_fit": null,
            "object_position": null,
            "order": null,
            "overflow": null,
            "overflow_x": null,
            "overflow_y": null,
            "padding": null,
            "right": null,
            "top": null,
            "visibility": null,
            "width": null
          }
        },
        "54982c880c8d4a798ff19a5e397a1e25": {
          "model_module": "@jupyter-widgets/controls",
          "model_module_version": "1.5.0",
          "model_name": "DescriptionStyleModel",
          "state": {
            "_model_module": "@jupyter-widgets/controls",
            "_model_module_version": "1.5.0",
            "_model_name": "DescriptionStyleModel",
            "_view_count": null,
            "_view_module": "@jupyter-widgets/base",
            "_view_module_version": "1.2.0",
            "_view_name": "StyleView",
            "description_width": ""
          }
        },
        "583b672502674c2e9dd21b5f5ee9d46f": {
          "model_module": "@jupyter-widgets/controls",
          "model_module_version": "1.5.0",
          "model_name": "HTMLModel",
          "state": {
            "_dom_classes": [],
            "_model_module": "@jupyter-widgets/controls",
            "_model_module_version": "1.5.0",
            "_model_name": "HTMLModel",
            "_view_count": null,
            "_view_module": "@jupyter-widgets/controls",
            "_view_module_version": "1.5.0",
            "_view_name": "HTMLView",
            "description": "",
            "description_tooltip": null,
            "layout": "IPY_MODEL_4d80aa7ceab74ca286f6ecc4cd27e79a",
            "placeholder": "​",
            "style": "IPY_MODEL_54982c880c8d4a798ff19a5e397a1e25",
            "value": " 9912422/9912422 [00:00&lt;00:00, 23809118.77it/s]"
          }
        },
        "58d3365cdb5448529f4ad2355f511caa": {
          "model_module": "@jupyter-widgets/base",
          "model_module_version": "1.2.0",
          "model_name": "LayoutModel",
          "state": {
            "_model_module": "@jupyter-widgets/base",
            "_model_module_version": "1.2.0",
            "_model_name": "LayoutModel",
            "_view_count": null,
            "_view_module": "@jupyter-widgets/base",
            "_view_module_version": "1.2.0",
            "_view_name": "LayoutView",
            "align_content": null,
            "align_items": null,
            "align_self": null,
            "border": null,
            "bottom": null,
            "display": null,
            "flex": null,
            "flex_flow": null,
            "grid_area": null,
            "grid_auto_columns": null,
            "grid_auto_flow": null,
            "grid_auto_rows": null,
            "grid_column": null,
            "grid_gap": null,
            "grid_row": null,
            "grid_template_areas": null,
            "grid_template_columns": null,
            "grid_template_rows": null,
            "height": null,
            "justify_content": null,
            "justify_items": null,
            "left": null,
            "margin": null,
            "max_height": null,
            "max_width": null,
            "min_height": null,
            "min_width": null,
            "object_fit": null,
            "object_position": null,
            "order": null,
            "overflow": null,
            "overflow_x": null,
            "overflow_y": null,
            "padding": null,
            "right": null,
            "top": null,
            "visibility": null,
            "width": null
          }
        },
        "59726155843845b49e636d584f44dc59": {
          "model_module": "@jupyter-widgets/base",
          "model_module_version": "1.2.0",
          "model_name": "LayoutModel",
          "state": {
            "_model_module": "@jupyter-widgets/base",
            "_model_module_version": "1.2.0",
            "_model_name": "LayoutModel",
            "_view_count": null,
            "_view_module": "@jupyter-widgets/base",
            "_view_module_version": "1.2.0",
            "_view_name": "LayoutView",
            "align_content": null,
            "align_items": null,
            "align_self": null,
            "border": null,
            "bottom": null,
            "display": null,
            "flex": null,
            "flex_flow": null,
            "grid_area": null,
            "grid_auto_columns": null,
            "grid_auto_flow": null,
            "grid_auto_rows": null,
            "grid_column": null,
            "grid_gap": null,
            "grid_row": null,
            "grid_template_areas": null,
            "grid_template_columns": null,
            "grid_template_rows": null,
            "height": null,
            "justify_content": null,
            "justify_items": null,
            "left": null,
            "margin": null,
            "max_height": null,
            "max_width": null,
            "min_height": null,
            "min_width": null,
            "object_fit": null,
            "object_position": null,
            "order": null,
            "overflow": null,
            "overflow_x": null,
            "overflow_y": null,
            "padding": null,
            "right": null,
            "top": null,
            "visibility": null,
            "width": null
          }
        },
        "5ae6b1afa165448c9fcbfaa1a6f182eb": {
          "model_module": "@jupyter-widgets/controls",
          "model_module_version": "1.5.0",
          "model_name": "HTMLModel",
          "state": {
            "_dom_classes": [],
            "_model_module": "@jupyter-widgets/controls",
            "_model_module_version": "1.5.0",
            "_model_name": "HTMLModel",
            "_view_count": null,
            "_view_module": "@jupyter-widgets/controls",
            "_view_module_version": "1.5.0",
            "_view_name": "HTMLView",
            "description": "",
            "description_tooltip": null,
            "layout": "IPY_MODEL_878b28aa51e84d1887aff496c6a9ab48",
            "placeholder": "​",
            "style": "IPY_MODEL_bd75d7c5a3aa473a8ed6c01c60d97ce4",
            "value": " 28881/28881 [00:00&lt;00:00, 1486218.12it/s]"
          }
        },
        "6f94ea0094ed419b93d0b59e4fe3000d": {
          "model_module": "@jupyter-widgets/controls",
          "model_module_version": "1.5.0",
          "model_name": "ProgressStyleModel",
          "state": {
            "_model_module": "@jupyter-widgets/controls",
            "_model_module_version": "1.5.0",
            "_model_name": "ProgressStyleModel",
            "_view_count": null,
            "_view_module": "@jupyter-widgets/base",
            "_view_module_version": "1.2.0",
            "_view_name": "StyleView",
            "bar_color": null,
            "description_width": ""
          }
        },
        "6fd822b0cdc0433a90fe117c54ac024f": {
          "model_module": "@jupyter-widgets/controls",
          "model_module_version": "1.5.0",
          "model_name": "HTMLModel",
          "state": {
            "_dom_classes": [],
            "_model_module": "@jupyter-widgets/controls",
            "_model_module_version": "1.5.0",
            "_model_name": "HTMLModel",
            "_view_count": null,
            "_view_module": "@jupyter-widgets/controls",
            "_view_module_version": "1.5.0",
            "_view_name": "HTMLView",
            "description": "",
            "description_tooltip": null,
            "layout": "IPY_MODEL_239d788384f8487383a62f911026d220",
            "placeholder": "​",
            "style": "IPY_MODEL_43628444c4a34e688ba30d15862b607d",
            "value": "100%"
          }
        },
        "721e9bc14ef84fb3bdb9a6c8641f4824": {
          "model_module": "@jupyter-widgets/controls",
          "model_module_version": "1.5.0",
          "model_name": "HBoxModel",
          "state": {
            "_dom_classes": [],
            "_model_module": "@jupyter-widgets/controls",
            "_model_module_version": "1.5.0",
            "_model_name": "HBoxModel",
            "_view_count": null,
            "_view_module": "@jupyter-widgets/controls",
            "_view_module_version": "1.5.0",
            "_view_name": "HBoxView",
            "box_style": "",
            "children": [
              "IPY_MODEL_6fd822b0cdc0433a90fe117c54ac024f",
              "IPY_MODEL_c1b2ff11523a411090f0df7bf523aad2",
              "IPY_MODEL_04bea59998ba4ceca12739b418691ac7"
            ],
            "layout": "IPY_MODEL_58d3365cdb5448529f4ad2355f511caa"
          }
        },
        "86c76c07f9bf4b4b90e5cdb3e2ec58f4": {
          "model_module": "@jupyter-widgets/base",
          "model_module_version": "1.2.0",
          "model_name": "LayoutModel",
          "state": {
            "_model_module": "@jupyter-widgets/base",
            "_model_module_version": "1.2.0",
            "_model_name": "LayoutModel",
            "_view_count": null,
            "_view_module": "@jupyter-widgets/base",
            "_view_module_version": "1.2.0",
            "_view_name": "LayoutView",
            "align_content": null,
            "align_items": null,
            "align_self": null,
            "border": null,
            "bottom": null,
            "display": null,
            "flex": null,
            "flex_flow": null,
            "grid_area": null,
            "grid_auto_columns": null,
            "grid_auto_flow": null,
            "grid_auto_rows": null,
            "grid_column": null,
            "grid_gap": null,
            "grid_row": null,
            "grid_template_areas": null,
            "grid_template_columns": null,
            "grid_template_rows": null,
            "height": null,
            "justify_content": null,
            "justify_items": null,
            "left": null,
            "margin": null,
            "max_height": null,
            "max_width": null,
            "min_height": null,
            "min_width": null,
            "object_fit": null,
            "object_position": null,
            "order": null,
            "overflow": null,
            "overflow_x": null,
            "overflow_y": null,
            "padding": null,
            "right": null,
            "top": null,
            "visibility": null,
            "width": null
          }
        },
        "878b28aa51e84d1887aff496c6a9ab48": {
          "model_module": "@jupyter-widgets/base",
          "model_module_version": "1.2.0",
          "model_name": "LayoutModel",
          "state": {
            "_model_module": "@jupyter-widgets/base",
            "_model_module_version": "1.2.0",
            "_model_name": "LayoutModel",
            "_view_count": null,
            "_view_module": "@jupyter-widgets/base",
            "_view_module_version": "1.2.0",
            "_view_name": "LayoutView",
            "align_content": null,
            "align_items": null,
            "align_self": null,
            "border": null,
            "bottom": null,
            "display": null,
            "flex": null,
            "flex_flow": null,
            "grid_area": null,
            "grid_auto_columns": null,
            "grid_auto_flow": null,
            "grid_auto_rows": null,
            "grid_column": null,
            "grid_gap": null,
            "grid_row": null,
            "grid_template_areas": null,
            "grid_template_columns": null,
            "grid_template_rows": null,
            "height": null,
            "justify_content": null,
            "justify_items": null,
            "left": null,
            "margin": null,
            "max_height": null,
            "max_width": null,
            "min_height": null,
            "min_width": null,
            "object_fit": null,
            "object_position": null,
            "order": null,
            "overflow": null,
            "overflow_x": null,
            "overflow_y": null,
            "padding": null,
            "right": null,
            "top": null,
            "visibility": null,
            "width": null
          }
        },
        "8cc077b9c77a4da99ddf0f96b52130ba": {
          "model_module": "@jupyter-widgets/base",
          "model_module_version": "1.2.0",
          "model_name": "LayoutModel",
          "state": {
            "_model_module": "@jupyter-widgets/base",
            "_model_module_version": "1.2.0",
            "_model_name": "LayoutModel",
            "_view_count": null,
            "_view_module": "@jupyter-widgets/base",
            "_view_module_version": "1.2.0",
            "_view_name": "LayoutView",
            "align_content": null,
            "align_items": null,
            "align_self": null,
            "border": null,
            "bottom": null,
            "display": null,
            "flex": null,
            "flex_flow": null,
            "grid_area": null,
            "grid_auto_columns": null,
            "grid_auto_flow": null,
            "grid_auto_rows": null,
            "grid_column": null,
            "grid_gap": null,
            "grid_row": null,
            "grid_template_areas": null,
            "grid_template_columns": null,
            "grid_template_rows": null,
            "height": null,
            "justify_content": null,
            "justify_items": null,
            "left": null,
            "margin": null,
            "max_height": null,
            "max_width": null,
            "min_height": null,
            "min_width": null,
            "object_fit": null,
            "object_position": null,
            "order": null,
            "overflow": null,
            "overflow_x": null,
            "overflow_y": null,
            "padding": null,
            "right": null,
            "top": null,
            "visibility": null,
            "width": null
          }
        },
        "8e352591bb8044a7a15fc615187e5177": {
          "model_module": "@jupyter-widgets/controls",
          "model_module_version": "1.5.0",
          "model_name": "ProgressStyleModel",
          "state": {
            "_model_module": "@jupyter-widgets/controls",
            "_model_module_version": "1.5.0",
            "_model_name": "ProgressStyleModel",
            "_view_count": null,
            "_view_module": "@jupyter-widgets/base",
            "_view_module_version": "1.2.0",
            "_view_name": "StyleView",
            "bar_color": null,
            "description_width": ""
          }
        },
        "8e70c48b1f0d40268810341e1be78943": {
          "model_module": "@jupyter-widgets/controls",
          "model_module_version": "1.5.0",
          "model_name": "HBoxModel",
          "state": {
            "_dom_classes": [],
            "_model_module": "@jupyter-widgets/controls",
            "_model_module_version": "1.5.0",
            "_model_name": "HBoxModel",
            "_view_count": null,
            "_view_module": "@jupyter-widgets/controls",
            "_view_module_version": "1.5.0",
            "_view_name": "HBoxView",
            "box_style": "",
            "children": [
              "IPY_MODEL_dafa254bc64b49e9a98533d2aa6e262e",
              "IPY_MODEL_16087c4379b644efbc94ac6e8f36b710",
              "IPY_MODEL_ecd4e8ef07d54326ae2064b994fca6ee"
            ],
            "layout": "IPY_MODEL_d2cd38b3c7424432a2411523e95fe6d0"
          }
        },
        "90fb595487fd4ed2ae8f9cab4891c362": {
          "model_module": "@jupyter-widgets/controls",
          "model_module_version": "1.5.0",
          "model_name": "HBoxModel",
          "state": {
            "_dom_classes": [],
            "_model_module": "@jupyter-widgets/controls",
            "_model_module_version": "1.5.0",
            "_model_name": "HBoxModel",
            "_view_count": null,
            "_view_module": "@jupyter-widgets/controls",
            "_view_module_version": "1.5.0",
            "_view_name": "HBoxView",
            "box_style": "",
            "children": [
              "IPY_MODEL_0000e765dc9541cc8aee351962e90c35",
              "IPY_MODEL_2047281eb9834d8ea3d961a28051bd3f",
              "IPY_MODEL_583b672502674c2e9dd21b5f5ee9d46f"
            ],
            "layout": "IPY_MODEL_86c76c07f9bf4b4b90e5cdb3e2ec58f4"
          }
        },
        "9d2319ab5212487f80a9550d38f37302": {
          "model_module": "@jupyter-widgets/controls",
          "model_module_version": "1.5.0",
          "model_name": "HBoxModel",
          "state": {
            "_dom_classes": [],
            "_model_module": "@jupyter-widgets/controls",
            "_model_module_version": "1.5.0",
            "_model_name": "HBoxModel",
            "_view_count": null,
            "_view_module": "@jupyter-widgets/controls",
            "_view_module_version": "1.5.0",
            "_view_name": "HBoxView",
            "box_style": "",
            "children": [
              "IPY_MODEL_b1867b2ea51c4834b63329e47045d691",
              "IPY_MODEL_ebcfdeaf9b3f4cfbbbe8548948dece50",
              "IPY_MODEL_5ae6b1afa165448c9fcbfaa1a6f182eb"
            ],
            "layout": "IPY_MODEL_dea982d8e18c4bdab63a2bb4048093f1"
          }
        },
        "b1867b2ea51c4834b63329e47045d691": {
          "model_module": "@jupyter-widgets/controls",
          "model_module_version": "1.5.0",
          "model_name": "HTMLModel",
          "state": {
            "_dom_classes": [],
            "_model_module": "@jupyter-widgets/controls",
            "_model_module_version": "1.5.0",
            "_model_name": "HTMLModel",
            "_view_count": null,
            "_view_module": "@jupyter-widgets/controls",
            "_view_module_version": "1.5.0",
            "_view_name": "HTMLView",
            "description": "",
            "description_tooltip": null,
            "layout": "IPY_MODEL_37938ce5fcb04f6495b3e3b2fad674e8",
            "placeholder": "​",
            "style": "IPY_MODEL_2ac1acba36124b7eba246db20aa8700f",
            "value": "100%"
          }
        },
        "b235fc3275804c6db4b1835cd2014cfa": {
          "model_module": "@jupyter-widgets/base",
          "model_module_version": "1.2.0",
          "model_name": "LayoutModel",
          "state": {
            "_model_module": "@jupyter-widgets/base",
            "_model_module_version": "1.2.0",
            "_model_name": "LayoutModel",
            "_view_count": null,
            "_view_module": "@jupyter-widgets/base",
            "_view_module_version": "1.2.0",
            "_view_name": "LayoutView",
            "align_content": null,
            "align_items": null,
            "align_self": null,
            "border": null,
            "bottom": null,
            "display": null,
            "flex": null,
            "flex_flow": null,
            "grid_area": null,
            "grid_auto_columns": null,
            "grid_auto_flow": null,
            "grid_auto_rows": null,
            "grid_column": null,
            "grid_gap": null,
            "grid_row": null,
            "grid_template_areas": null,
            "grid_template_columns": null,
            "grid_template_rows": null,
            "height": null,
            "justify_content": null,
            "justify_items": null,
            "left": null,
            "margin": null,
            "max_height": null,
            "max_width": null,
            "min_height": null,
            "min_width": null,
            "object_fit": null,
            "object_position": null,
            "order": null,
            "overflow": null,
            "overflow_x": null,
            "overflow_y": null,
            "padding": null,
            "right": null,
            "top": null,
            "visibility": null,
            "width": null
          }
        },
        "bb46c25f848d47e990bb8695c663ea58": {
          "model_module": "@jupyter-widgets/base",
          "model_module_version": "1.2.0",
          "model_name": "LayoutModel",
          "state": {
            "_model_module": "@jupyter-widgets/base",
            "_model_module_version": "1.2.0",
            "_model_name": "LayoutModel",
            "_view_count": null,
            "_view_module": "@jupyter-widgets/base",
            "_view_module_version": "1.2.0",
            "_view_name": "LayoutView",
            "align_content": null,
            "align_items": null,
            "align_self": null,
            "border": null,
            "bottom": null,
            "display": null,
            "flex": null,
            "flex_flow": null,
            "grid_area": null,
            "grid_auto_columns": null,
            "grid_auto_flow": null,
            "grid_auto_rows": null,
            "grid_column": null,
            "grid_gap": null,
            "grid_row": null,
            "grid_template_areas": null,
            "grid_template_columns": null,
            "grid_template_rows": null,
            "height": null,
            "justify_content": null,
            "justify_items": null,
            "left": null,
            "margin": null,
            "max_height": null,
            "max_width": null,
            "min_height": null,
            "min_width": null,
            "object_fit": null,
            "object_position": null,
            "order": null,
            "overflow": null,
            "overflow_x": null,
            "overflow_y": null,
            "padding": null,
            "right": null,
            "top": null,
            "visibility": null,
            "width": null
          }
        },
        "bd75d7c5a3aa473a8ed6c01c60d97ce4": {
          "model_module": "@jupyter-widgets/controls",
          "model_module_version": "1.5.0",
          "model_name": "DescriptionStyleModel",
          "state": {
            "_model_module": "@jupyter-widgets/controls",
            "_model_module_version": "1.5.0",
            "_model_name": "DescriptionStyleModel",
            "_view_count": null,
            "_view_module": "@jupyter-widgets/base",
            "_view_module_version": "1.2.0",
            "_view_name": "StyleView",
            "description_width": ""
          }
        },
        "c1b2ff11523a411090f0df7bf523aad2": {
          "model_module": "@jupyter-widgets/controls",
          "model_module_version": "1.5.0",
          "model_name": "FloatProgressModel",
          "state": {
            "_dom_classes": [],
            "_model_module": "@jupyter-widgets/controls",
            "_model_module_version": "1.5.0",
            "_model_name": "FloatProgressModel",
            "_view_count": null,
            "_view_module": "@jupyter-widgets/controls",
            "_view_module_version": "1.5.0",
            "_view_name": "ProgressView",
            "bar_style": "success",
            "description": "",
            "description_tooltip": null,
            "layout": "IPY_MODEL_8cc077b9c77a4da99ddf0f96b52130ba",
            "max": 1648877,
            "min": 0,
            "orientation": "horizontal",
            "style": "IPY_MODEL_0f7e708b6f164bcb80349cd89ee74ba4",
            "value": 1648877
          }
        },
        "c775a0eba8b845ffa1c77078718581d5": {
          "model_module": "@jupyter-widgets/controls",
          "model_module_version": "1.5.0",
          "model_name": "DescriptionStyleModel",
          "state": {
            "_model_module": "@jupyter-widgets/controls",
            "_model_module_version": "1.5.0",
            "_model_name": "DescriptionStyleModel",
            "_view_count": null,
            "_view_module": "@jupyter-widgets/base",
            "_view_module_version": "1.2.0",
            "_view_name": "StyleView",
            "description_width": ""
          }
        },
        "cbfa738dc3f145afa5bfb9b774e95166": {
          "model_module": "@jupyter-widgets/base",
          "model_module_version": "1.2.0",
          "model_name": "LayoutModel",
          "state": {
            "_model_module": "@jupyter-widgets/base",
            "_model_module_version": "1.2.0",
            "_model_name": "LayoutModel",
            "_view_count": null,
            "_view_module": "@jupyter-widgets/base",
            "_view_module_version": "1.2.0",
            "_view_name": "LayoutView",
            "align_content": null,
            "align_items": null,
            "align_self": null,
            "border": null,
            "bottom": null,
            "display": null,
            "flex": null,
            "flex_flow": null,
            "grid_area": null,
            "grid_auto_columns": null,
            "grid_auto_flow": null,
            "grid_auto_rows": null,
            "grid_column": null,
            "grid_gap": null,
            "grid_row": null,
            "grid_template_areas": null,
            "grid_template_columns": null,
            "grid_template_rows": null,
            "height": null,
            "justify_content": null,
            "justify_items": null,
            "left": null,
            "margin": null,
            "max_height": null,
            "max_width": null,
            "min_height": null,
            "min_width": null,
            "object_fit": null,
            "object_position": null,
            "order": null,
            "overflow": null,
            "overflow_x": null,
            "overflow_y": null,
            "padding": null,
            "right": null,
            "top": null,
            "visibility": null,
            "width": null
          }
        },
        "d2cd38b3c7424432a2411523e95fe6d0": {
          "model_module": "@jupyter-widgets/base",
          "model_module_version": "1.2.0",
          "model_name": "LayoutModel",
          "state": {
            "_model_module": "@jupyter-widgets/base",
            "_model_module_version": "1.2.0",
            "_model_name": "LayoutModel",
            "_view_count": null,
            "_view_module": "@jupyter-widgets/base",
            "_view_module_version": "1.2.0",
            "_view_name": "LayoutView",
            "align_content": null,
            "align_items": null,
            "align_self": null,
            "border": null,
            "bottom": null,
            "display": null,
            "flex": null,
            "flex_flow": null,
            "grid_area": null,
            "grid_auto_columns": null,
            "grid_auto_flow": null,
            "grid_auto_rows": null,
            "grid_column": null,
            "grid_gap": null,
            "grid_row": null,
            "grid_template_areas": null,
            "grid_template_columns": null,
            "grid_template_rows": null,
            "height": null,
            "justify_content": null,
            "justify_items": null,
            "left": null,
            "margin": null,
            "max_height": null,
            "max_width": null,
            "min_height": null,
            "min_width": null,
            "object_fit": null,
            "object_position": null,
            "order": null,
            "overflow": null,
            "overflow_x": null,
            "overflow_y": null,
            "padding": null,
            "right": null,
            "top": null,
            "visibility": null,
            "width": null
          }
        },
        "d6c7b6c14f6742fd849554d379ed9faf": {
          "model_module": "@jupyter-widgets/base",
          "model_module_version": "1.2.0",
          "model_name": "LayoutModel",
          "state": {
            "_model_module": "@jupyter-widgets/base",
            "_model_module_version": "1.2.0",
            "_model_name": "LayoutModel",
            "_view_count": null,
            "_view_module": "@jupyter-widgets/base",
            "_view_module_version": "1.2.0",
            "_view_name": "LayoutView",
            "align_content": null,
            "align_items": null,
            "align_self": null,
            "border": null,
            "bottom": null,
            "display": null,
            "flex": null,
            "flex_flow": null,
            "grid_area": null,
            "grid_auto_columns": null,
            "grid_auto_flow": null,
            "grid_auto_rows": null,
            "grid_column": null,
            "grid_gap": null,
            "grid_row": null,
            "grid_template_areas": null,
            "grid_template_columns": null,
            "grid_template_rows": null,
            "height": null,
            "justify_content": null,
            "justify_items": null,
            "left": null,
            "margin": null,
            "max_height": null,
            "max_width": null,
            "min_height": null,
            "min_width": null,
            "object_fit": null,
            "object_position": null,
            "order": null,
            "overflow": null,
            "overflow_x": null,
            "overflow_y": null,
            "padding": null,
            "right": null,
            "top": null,
            "visibility": null,
            "width": null
          }
        },
        "dafa254bc64b49e9a98533d2aa6e262e": {
          "model_module": "@jupyter-widgets/controls",
          "model_module_version": "1.5.0",
          "model_name": "HTMLModel",
          "state": {
            "_dom_classes": [],
            "_model_module": "@jupyter-widgets/controls",
            "_model_module_version": "1.5.0",
            "_model_name": "HTMLModel",
            "_view_count": null,
            "_view_module": "@jupyter-widgets/controls",
            "_view_module_version": "1.5.0",
            "_view_name": "HTMLView",
            "description": "",
            "description_tooltip": null,
            "layout": "IPY_MODEL_59726155843845b49e636d584f44dc59",
            "placeholder": "​",
            "style": "IPY_MODEL_326dcaf7f6494955be3caa6cd76d013a",
            "value": "100%"
          }
        },
        "dea982d8e18c4bdab63a2bb4048093f1": {
          "model_module": "@jupyter-widgets/base",
          "model_module_version": "1.2.0",
          "model_name": "LayoutModel",
          "state": {
            "_model_module": "@jupyter-widgets/base",
            "_model_module_version": "1.2.0",
            "_model_name": "LayoutModel",
            "_view_count": null,
            "_view_module": "@jupyter-widgets/base",
            "_view_module_version": "1.2.0",
            "_view_name": "LayoutView",
            "align_content": null,
            "align_items": null,
            "align_self": null,
            "border": null,
            "bottom": null,
            "display": null,
            "flex": null,
            "flex_flow": null,
            "grid_area": null,
            "grid_auto_columns": null,
            "grid_auto_flow": null,
            "grid_auto_rows": null,
            "grid_column": null,
            "grid_gap": null,
            "grid_row": null,
            "grid_template_areas": null,
            "grid_template_columns": null,
            "grid_template_rows": null,
            "height": null,
            "justify_content": null,
            "justify_items": null,
            "left": null,
            "margin": null,
            "max_height": null,
            "max_width": null,
            "min_height": null,
            "min_width": null,
            "object_fit": null,
            "object_position": null,
            "order": null,
            "overflow": null,
            "overflow_x": null,
            "overflow_y": null,
            "padding": null,
            "right": null,
            "top": null,
            "visibility": null,
            "width": null
          }
        },
        "ebcfdeaf9b3f4cfbbbe8548948dece50": {
          "model_module": "@jupyter-widgets/controls",
          "model_module_version": "1.5.0",
          "model_name": "FloatProgressModel",
          "state": {
            "_dom_classes": [],
            "_model_module": "@jupyter-widgets/controls",
            "_model_module_version": "1.5.0",
            "_model_name": "FloatProgressModel",
            "_view_count": null,
            "_view_module": "@jupyter-widgets/controls",
            "_view_module_version": "1.5.0",
            "_view_name": "ProgressView",
            "bar_style": "success",
            "description": "",
            "description_tooltip": null,
            "layout": "IPY_MODEL_bb46c25f848d47e990bb8695c663ea58",
            "max": 28881,
            "min": 0,
            "orientation": "horizontal",
            "style": "IPY_MODEL_8e352591bb8044a7a15fc615187e5177",
            "value": 28881
          }
        },
        "ecd4e8ef07d54326ae2064b994fca6ee": {
          "model_module": "@jupyter-widgets/controls",
          "model_module_version": "1.5.0",
          "model_name": "HTMLModel",
          "state": {
            "_dom_classes": [],
            "_model_module": "@jupyter-widgets/controls",
            "_model_module_version": "1.5.0",
            "_model_name": "HTMLModel",
            "_view_count": null,
            "_view_module": "@jupyter-widgets/controls",
            "_view_module_version": "1.5.0",
            "_view_name": "HTMLView",
            "description": "",
            "description_tooltip": null,
            "layout": "IPY_MODEL_2b240042ee5345368ee78688fcbdce85",
            "placeholder": "​",
            "style": "IPY_MODEL_2cdf8191716f4900ba26e50e5a0bec53",
            "value": " 4542/4542 [00:00&lt;00:00, 158873.56it/s]"
          }
        }
      }
    }
  },
  "nbformat": 4,
  "nbformat_minor": 0
}
